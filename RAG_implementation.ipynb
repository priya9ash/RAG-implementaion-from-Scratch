{
 "cells": [
  {
   "cell_type": "code",
   "execution_count": 2,
   "id": "d7ead466-dbe9-4f18-b541-f07c43b56e1d",
   "metadata": {},
   "outputs": [],
   "source": [
    "corpus_of_documents=[\n",
    "    \"His dog barks loudly\",\n",
    "\"My school starts at 8:00.\",\n",
    "\"We always eat dinner together.\",\n",
    "\"They take the bus to work.\",\n",
    "\"He doesn’t like vegetables.\",\n",
    "\"I don’t want anything to drink.\",\n",
    "\"This little black dress isn’t expensive.\",\n",
    "\"Those kids don’t speak English.\",\n",
    "    \"I live in JAPAN\",\n",
    "    \"I live in india from state of orissa\"\n",
    "]"
   ]
  },
  {
   "cell_type": "code",
   "execution_count": 3,
   "id": "a1cdf6dc-cbce-4dd5-a496-d24666557f45",
   "metadata": {},
   "outputs": [
    {
     "data": {
      "text/plain": [
       "['His dog barks loudly',\n",
       " 'My school starts at 8:00.',\n",
       " 'We always eat dinner together.',\n",
       " 'They take the bus to work.',\n",
       " 'He doesn’t like vegetables.',\n",
       " 'I don’t want anything to drink.',\n",
       " 'This little black dress isn’t expensive.',\n",
       " 'Those kids don’t speak English.']"
      ]
     },
     "execution_count": 3,
     "metadata": {},
     "output_type": "execute_result"
    }
   ],
   "source": [
    "corpus_of_documents"
   ]
  },
  {
   "cell_type": "code",
   "execution_count": 9,
   "id": "96121607-6856-4a40-b8eb-fae8bb979d5a",
   "metadata": {},
   "outputs": [],
   "source": [
    "# convert into embeddings coverting into numerical representation."
   ]
  },
  {
   "cell_type": "code",
   "execution_count": 8,
   "id": "290546e8-b23f-40b0-af8d-3d27b6462d34",
   "metadata": {},
   "outputs": [],
   "source": [
    "user_query=\"I am an indian and i live in India.\""
   ]
  },
  {
   "cell_type": "code",
   "execution_count": 7,
   "id": "5c5068c2-d05c-4246-9708-f0a93059ffd0",
   "metadata": {},
   "outputs": [],
   "source": [
    "document = \"india is a country for the indians and for everyone.\""
   ]
  },
  {
   "cell_type": "code",
   "execution_count": 10,
   "id": "372c2f71-db40-4965-bcfd-963b42694ea6",
   "metadata": {},
   "outputs": [],
   "source": [
    "from collections import Counter \n",
    "import math"
   ]
  },
  {
   "cell_type": "code",
   "execution_count": 15,
   "id": "2bd806f2-7fe1-4e59-9645-e9519be354c5",
   "metadata": {},
   "outputs": [
    {
     "data": {
      "text/plain": [
       "['i', 'am', 'an', 'indian', 'and', 'i', 'live', 'in', 'india.']"
      ]
     },
     "execution_count": 15,
     "metadata": {},
     "output_type": "execute_result"
    }
   ],
   "source": [
    "query_tokens=user_query.lower().split(\" \")\n",
    "query_tokens"
   ]
  },
  {
   "cell_type": "code",
   "execution_count": 17,
   "id": "8e266fd4-343a-4624-b9ab-c292c3146502",
   "metadata": {
    "scrolled": true
   },
   "outputs": [
    {
     "data": {
      "text/plain": [
       "['india',\n",
       " 'is',\n",
       " 'a',\n",
       " 'country',\n",
       " 'for',\n",
       " 'the',\n",
       " 'indians',\n",
       " 'and',\n",
       " 'for',\n",
       " 'everyone.']"
      ]
     },
     "execution_count": 17,
     "metadata": {},
     "output_type": "execute_result"
    }
   ],
   "source": [
    "document_tokens=document.lower().split(\" \")\n",
    "document_tokens"
   ]
  },
  {
   "cell_type": "code",
   "execution_count": 19,
   "id": "15deff25-6dee-45eb-a4f3-3ed988729c57",
   "metadata": {
    "jupyter": {
     "source_hidden": true
    }
   },
   "outputs": [],
   "source": [
    "query_counter=Counter(query_tokens)"
   ]
  },
  {
   "cell_type": "code",
   "execution_count": 20,
   "id": "ca041b98-15ad-4767-96b5-a8114751683f",
   "metadata": {},
   "outputs": [],
   "source": [
    "document_counter=Counter(document_tokens)"
   ]
  },
  {
   "cell_type": "code",
   "execution_count": null,
   "id": "0b8c2e72-693e-4620-a84f-d44c1b8829da",
   "metadata": {},
   "outputs": [],
   "source": []
  },
  {
   "cell_type": "code",
   "execution_count": null,
   "id": "dc6a0609-12d6-41d9-b488-a310ba8bc51c",
   "metadata": {},
   "outputs": [],
   "source": []
  }
 ],
 "metadata": {
  "kernelspec": {
   "display_name": "Python 3 (ipykernel)",
   "language": "python",
   "name": "python3"
  },
  "language_info": {
   "codemirror_mode": {
    "name": "ipython",
    "version": 3
   },
   "file_extension": ".py",
   "mimetype": "text/x-python",
   "name": "python",
   "nbconvert_exporter": "python",
   "pygments_lexer": "ipython3",
   "version": "3.12.3"
  }
 },
 "nbformat": 4,
 "nbformat_minor": 5
}
